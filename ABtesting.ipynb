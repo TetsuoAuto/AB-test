{
 "cells": [
  {
   "cell_type": "markdown",
   "id": "fd1fddbc-e1d3-4a02-bb00-9d6d6264aa32",
   "metadata": {},
   "source": [
    "### 這個Notebook是我在學習A/B test時的隨行筆記，用來紀錄用Python做A/B test時的各項步驟。\n",
    "主要紀錄幾個重點：\n",
    "- 什麼是A/B test\n",
    "    - A/B test 是一種在網頁或者產品分析，特別是電子商務網站常用的手法，主要是將想確確認的變因或假說分成Ａ組和Ｂ組並將客戶群隨機分流到兩組之中，藉此分析兩組區別，最終目的是選擇成績較好的版本。\n",
    "- A/B test 的實行步驟\n",
    "    - A/B test 主要分成幾個步驟，分別是：\n",
    "       1. 確立目標\n",
    "       2. 提出假設\n",
    "       3. 搜集資料，進行測試\n",
    "       4. 得出結論，選擇版本或繼續提出假設"
   ]
  },
  {
   "cell_type": "markdown",
   "id": "87dccaf0-4605-43c2-a647-a2b5b36bc676",
   "metadata": {},
   "source": [
    "使用資料集 : Kaggle's Data Source - Grocery website data for AB test:\n",
    "https://www.kaggle.com/tklimonova/grocery-website-data-for-ab-test"
   ]
  },
  {
   "cell_type": "markdown",
   "id": "7bc7d4f9-4957-45fa-b9ec-6d510b3b072d",
   "metadata": {},
   "source": [
    "### Step 1: 確立目標 : 提高轉換率\n",
    "#### A/B Test 的目標通常分為兩大類：\n",
    "    1. 提升Ｘ：\n",
    "        Example: 點擊率，轉換率，訂閱人數，註冊率...\n",
    "    2. 降低Ｙ：\n",
    "        Example: 客戶流失率，取消訂閱率...\n",
    "Note: A/B Test 的目標需要盡量簡潔明確且可量化。\n",
    "\n",
    "這次我設定的目標情境是希望可以增加客戶點擊公司網頁的忠誠度計畫頁面機率（也就是轉換率）"
   ]
  },
  {
   "cell_type": "markdown",
   "id": "c12bbde2-2b0a-440f-9ceb-c7263b9abd61",
   "metadata": {},
   "source": [
    "### Step 2: 提出假設 : 新版本的轉換率是否能比舊版本提高2%\n",
    "這個步驟在實作上應和前線人員溝通要調整的方案假設，一般都是頁面內容的更動，像是：\n",
    "- 文案    ： 標題、價值傳遞、商品描述...\n",
    "- 版面配置 ： 板塊位置、顏色...\n",
    "- 促銷方案 ： 不同價位、折扣...\n",
    "\n",
    "這次是使用Kaggle的資料進行模擬實驗，所以我將ServerID = 1 設為Ａ（新版本）組，ServerID = 2 or 3 設為Ｂ（舊版本）組。"
   ]
  },
  {
   "cell_type": "markdown",
   "id": "a4340a76-b2be-4619-b15c-57f083c1f306",
   "metadata": {},
   "source": [
    "#### 這邊由於我提出的假設是希望網頁能從目前的5%轉換率提高到7%，為了保證樣本數不會太小影響顯著性，也不會太大導致取得成本過高，因此我使用Power Analysis尋找所需的樣本數\n",
    "- 什麼是Power Analysis以及為何要使用它?\n",
    "    - Power Analysis通常在數據收集之前進行，主要目的是幫助研究人員確定適合檢測給定測試在所需顯著性水平上的影響的最小樣本量。較大的樣本可以讓數據更接近0.05的顯著性水平，同時避免研究人員因為樣本數太小犯下第二類錯誤。而在理想情況下，研究人員需要較小的樣本，因為較大的樣本通常比較小的樣本成本更高。較小的樣本也優化了顯著性檢驗。Power Analysis正是用來取得這兩者之間的平衡。"
   ]
  },
  {
   "cell_type": "code",
   "execution_count": 1,
   "id": "b7c03d80-b48e-4f28-a677-773d1d088efe",
   "metadata": {},
   "outputs": [
    {
     "name": "stdout",
     "output_type": "stream",
     "text": [
      "所需樣本數：2199\n"
     ]
    }
   ],
   "source": [
    "# Packages imports\n",
    "import numpy as np\n",
    "import scipy.stats as stats\n",
    "import statsmodels.stats.api as sms\n",
    "from math import ceil\n",
    "\n",
    "# Calculating effect size based on our expected rates\n",
    "effect_size = sms.proportion_effectsize(0.05, 0.07)    \n",
    "\n",
    "#Calculating sample size needed\n",
    "required_n = sms.NormalIndPower().solve_power(\n",
    "    effect_size, \n",
    "    power=0.8, \n",
    "    alpha=0.05, \n",
    "    ratio=1\n",
    "    )                                                  \n",
    "\n",
    "# Rounding up to next whole number   \n",
    "required_n = ceil(required_n)                               \n",
    "\n",
    "print('所需樣本數：{}'.format(required_n))"
   ]
  },
  {
   "cell_type": "markdown",
   "id": "496da932-c07c-4c29-9c04-ee83b1193306",
   "metadata": {},
   "source": [
    "### Step 3： 搜集資料，進行測試"
   ]
  },
  {
   "cell_type": "markdown",
   "id": "bfe18928-3e26-4907-aa2a-3fa272ea69c6",
   "metadata": {},
   "source": [
    "### Data View\n",
    "- RecordID     : identifier of the row of data\n",
    "- IP Address   : address of the user, who is visiting website\n",
    "- LoggedInFlag : 1 - when user has an account and logged in\n",
    "- ServerID     : one of the servers user was routed through (Where we grouping)\n",
    "- VisitPageFlag: 1 - when user clicked on the loyalty program page (Conversion Rate)"
   ]
  },
  {
   "cell_type": "code",
   "execution_count": 2,
   "id": "a83f335a-ca4d-40e4-9819-93f232aab292",
   "metadata": {},
   "outputs": [
    {
     "data": {
      "text/html": [
       "<div>\n",
       "<style scoped>\n",
       "    .dataframe tbody tr th:only-of-type {\n",
       "        vertical-align: middle;\n",
       "    }\n",
       "\n",
       "    .dataframe tbody tr th {\n",
       "        vertical-align: top;\n",
       "    }\n",
       "\n",
       "    .dataframe thead th {\n",
       "        text-align: right;\n",
       "    }\n",
       "</style>\n",
       "<table border=\"1\" class=\"dataframe\">\n",
       "  <thead>\n",
       "    <tr style=\"text-align: right;\">\n",
       "      <th></th>\n",
       "      <th>RecordID</th>\n",
       "      <th>IP Address</th>\n",
       "      <th>LoggedInFlag</th>\n",
       "      <th>ServerID</th>\n",
       "      <th>VisitPageFlag</th>\n",
       "    </tr>\n",
       "  </thead>\n",
       "  <tbody>\n",
       "    <tr>\n",
       "      <th>0</th>\n",
       "      <td>1</td>\n",
       "      <td>39.13.114.2</td>\n",
       "      <td>1</td>\n",
       "      <td>2</td>\n",
       "      <td>0</td>\n",
       "    </tr>\n",
       "    <tr>\n",
       "      <th>1</th>\n",
       "      <td>2</td>\n",
       "      <td>13.3.25.8</td>\n",
       "      <td>1</td>\n",
       "      <td>1</td>\n",
       "      <td>0</td>\n",
       "    </tr>\n",
       "    <tr>\n",
       "      <th>2</th>\n",
       "      <td>3</td>\n",
       "      <td>247.8.211.8</td>\n",
       "      <td>1</td>\n",
       "      <td>1</td>\n",
       "      <td>0</td>\n",
       "    </tr>\n",
       "    <tr>\n",
       "      <th>3</th>\n",
       "      <td>4</td>\n",
       "      <td>124.8.220.3</td>\n",
       "      <td>0</td>\n",
       "      <td>3</td>\n",
       "      <td>0</td>\n",
       "    </tr>\n",
       "    <tr>\n",
       "      <th>4</th>\n",
       "      <td>5</td>\n",
       "      <td>60.10.192.7</td>\n",
       "      <td>0</td>\n",
       "      <td>2</td>\n",
       "      <td>0</td>\n",
       "    </tr>\n",
       "  </tbody>\n",
       "</table>\n",
       "</div>"
      ],
      "text/plain": [
       "   RecordID   IP Address  LoggedInFlag  ServerID  VisitPageFlag\n",
       "0         1  39.13.114.2             1         2              0\n",
       "1         2    13.3.25.8             1         1              0\n",
       "2         3  247.8.211.8             1         1              0\n",
       "3         4  124.8.220.3             0         3              0\n",
       "4         5  60.10.192.7             0         2              0"
      ]
     },
     "execution_count": 2,
     "metadata": {},
     "output_type": "execute_result"
    }
   ],
   "source": [
    "import pandas as pd\n",
    "\n",
    "df = pd.read_csv('grocerywebsiteabtestdata.csv')\n",
    "df.head()"
   ]
  },
  {
   "cell_type": "code",
   "execution_count": 3,
   "id": "4f3a010d-0274-4714-b9f1-c7c365f370f9",
   "metadata": {},
   "outputs": [
    {
     "data": {
      "text/plain": [
       "(184588, 5)"
      ]
     },
     "execution_count": 3,
     "metadata": {},
     "output_type": "execute_result"
    }
   ],
   "source": [
    "df.shape"
   ]
  },
  {
   "cell_type": "code",
   "execution_count": 4,
   "id": "e9baaf26-8012-4161-a7eb-1b770323e312",
   "metadata": {},
   "outputs": [
    {
     "name": "stdout",
     "output_type": "stream",
     "text": [
      "<class 'pandas.core.frame.DataFrame'>\n",
      "RangeIndex: 184588 entries, 0 to 184587\n",
      "Data columns (total 5 columns):\n",
      " #   Column         Non-Null Count   Dtype \n",
      "---  ------         --------------   ----- \n",
      " 0   RecordID       184588 non-null  int64 \n",
      " 1   IP Address     184588 non-null  object\n",
      " 2   LoggedInFlag   184588 non-null  int64 \n",
      " 3   ServerID       184588 non-null  int64 \n",
      " 4   VisitPageFlag  184588 non-null  int64 \n",
      "dtypes: int64(4), object(1)\n",
      "memory usage: 7.0+ MB\n"
     ]
    }
   ],
   "source": [
    "df.info() #It doesn't have null value"
   ]
  },
  {
   "cell_type": "code",
   "execution_count": 5,
   "id": "40141487-dccd-441c-a7f3-03ce2b21be43",
   "metadata": {},
   "outputs": [
    {
     "data": {
      "text/html": [
       "<div>\n",
       "<style scoped>\n",
       "    .dataframe tbody tr th:only-of-type {\n",
       "        vertical-align: middle;\n",
       "    }\n",
       "\n",
       "    .dataframe tbody tr th {\n",
       "        vertical-align: top;\n",
       "    }\n",
       "\n",
       "    .dataframe thead th {\n",
       "        text-align: right;\n",
       "    }\n",
       "</style>\n",
       "<table border=\"1\" class=\"dataframe\">\n",
       "  <thead>\n",
       "    <tr style=\"text-align: right;\">\n",
       "      <th></th>\n",
       "      <th>LoggedInFlag</th>\n",
       "      <th>VisitPageFlag</th>\n",
       "    </tr>\n",
       "    <tr>\n",
       "      <th>ServerID</th>\n",
       "      <th></th>\n",
       "      <th></th>\n",
       "    </tr>\n",
       "  </thead>\n",
       "  <tbody>\n",
       "    <tr>\n",
       "      <th>1</th>\n",
       "      <td>0.504570</td>\n",
       "      <td>0.067640</td>\n",
       "    </tr>\n",
       "    <tr>\n",
       "      <th>2</th>\n",
       "      <td>0.510779</td>\n",
       "      <td>0.053300</td>\n",
       "    </tr>\n",
       "    <tr>\n",
       "      <th>3</th>\n",
       "      <td>0.495628</td>\n",
       "      <td>0.053596</td>\n",
       "    </tr>\n",
       "  </tbody>\n",
       "</table>\n",
       "</div>"
      ],
      "text/plain": [
       "          LoggedInFlag  VisitPageFlag\n",
       "ServerID                             \n",
       "1             0.504570       0.067640\n",
       "2             0.510779       0.053300\n",
       "3             0.495628       0.053596"
      ]
     },
     "execution_count": 5,
     "metadata": {},
     "output_type": "execute_result"
    }
   ],
   "source": [
    "df.groupby('ServerID')[['LoggedInFlag','VisitPageFlag']].mean() "
   ]
  },
  {
   "cell_type": "markdown",
   "id": "433e617c-1eec-46de-a579-81eac8cca924",
   "metadata": {},
   "source": [
    "### Grouping"
   ]
  },
  {
   "cell_type": "code",
   "execution_count": 6,
   "id": "683f9e7e-16f1-45bb-b3c2-003a0741f7cb",
   "metadata": {},
   "outputs": [
    {
     "data": {
      "text/html": [
       "<div>\n",
       "<style scoped>\n",
       "    .dataframe tbody tr th:only-of-type {\n",
       "        vertical-align: middle;\n",
       "    }\n",
       "\n",
       "    .dataframe tbody tr th {\n",
       "        vertical-align: top;\n",
       "    }\n",
       "\n",
       "    .dataframe thead th {\n",
       "        text-align: right;\n",
       "    }\n",
       "</style>\n",
       "<table border=\"1\" class=\"dataframe\">\n",
       "  <thead>\n",
       "    <tr style=\"text-align: right;\">\n",
       "      <th></th>\n",
       "      <th>RecordID</th>\n",
       "      <th>IP Address</th>\n",
       "      <th>LoggedInFlag</th>\n",
       "      <th>ServerID</th>\n",
       "      <th>VisitPageFlag</th>\n",
       "      <th>Group</th>\n",
       "    </tr>\n",
       "  </thead>\n",
       "  <tbody>\n",
       "    <tr>\n",
       "      <th>0</th>\n",
       "      <td>1</td>\n",
       "      <td>39.13.114.2</td>\n",
       "      <td>1</td>\n",
       "      <td>2</td>\n",
       "      <td>0</td>\n",
       "      <td>Control</td>\n",
       "    </tr>\n",
       "    <tr>\n",
       "      <th>1</th>\n",
       "      <td>2</td>\n",
       "      <td>13.3.25.8</td>\n",
       "      <td>1</td>\n",
       "      <td>1</td>\n",
       "      <td>0</td>\n",
       "      <td>Treatment</td>\n",
       "    </tr>\n",
       "    <tr>\n",
       "      <th>2</th>\n",
       "      <td>3</td>\n",
       "      <td>247.8.211.8</td>\n",
       "      <td>1</td>\n",
       "      <td>1</td>\n",
       "      <td>0</td>\n",
       "      <td>Treatment</td>\n",
       "    </tr>\n",
       "    <tr>\n",
       "      <th>3</th>\n",
       "      <td>4</td>\n",
       "      <td>124.8.220.3</td>\n",
       "      <td>0</td>\n",
       "      <td>3</td>\n",
       "      <td>0</td>\n",
       "      <td>Control</td>\n",
       "    </tr>\n",
       "    <tr>\n",
       "      <th>4</th>\n",
       "      <td>5</td>\n",
       "      <td>60.10.192.7</td>\n",
       "      <td>0</td>\n",
       "      <td>2</td>\n",
       "      <td>0</td>\n",
       "      <td>Control</td>\n",
       "    </tr>\n",
       "  </tbody>\n",
       "</table>\n",
       "</div>"
      ],
      "text/plain": [
       "   RecordID   IP Address  LoggedInFlag  ServerID  VisitPageFlag      Group\n",
       "0         1  39.13.114.2             1         2              0    Control\n",
       "1         2    13.3.25.8             1         1              0  Treatment\n",
       "2         3  247.8.211.8             1         1              0  Treatment\n",
       "3         4  124.8.220.3             0         3              0    Control\n",
       "4         5  60.10.192.7             0         2              0    Control"
      ]
     },
     "execution_count": 6,
     "metadata": {},
     "output_type": "execute_result"
    }
   ],
   "source": [
    "df['Group'] = ['Treatment' if v==1 else 'Control' for v in df['ServerID']]\n",
    "df.head()"
   ]
  },
  {
   "cell_type": "markdown",
   "id": "79a8dd87-35b1-4a9f-a9fa-269f35b652a8",
   "metadata": {},
   "source": [
    "### Sample"
   ]
  },
  {
   "cell_type": "code",
   "execution_count": 12,
   "id": "5155b74c-9cc3-4766-b003-1a74c2403646",
   "metadata": {},
   "outputs": [
    {
     "data": {
      "text/html": [
       "<div>\n",
       "<style scoped>\n",
       "    .dataframe tbody tr th:only-of-type {\n",
       "        vertical-align: middle;\n",
       "    }\n",
       "\n",
       "    .dataframe tbody tr th {\n",
       "        vertical-align: top;\n",
       "    }\n",
       "\n",
       "    .dataframe thead th {\n",
       "        text-align: right;\n",
       "    }\n",
       "</style>\n",
       "<table border=\"1\" class=\"dataframe\">\n",
       "  <thead>\n",
       "    <tr style=\"text-align: right;\">\n",
       "      <th></th>\n",
       "      <th>RecordID</th>\n",
       "      <th>IP Address</th>\n",
       "      <th>LoggedInFlag</th>\n",
       "      <th>ServerID</th>\n",
       "      <th>VisitPageFlag</th>\n",
       "      <th>Group</th>\n",
       "    </tr>\n",
       "  </thead>\n",
       "  <tbody>\n",
       "    <tr>\n",
       "      <th>0</th>\n",
       "      <td>61036</td>\n",
       "      <td>168.5.11.5</td>\n",
       "      <td>0</td>\n",
       "      <td>3</td>\n",
       "      <td>0</td>\n",
       "      <td>Control</td>\n",
       "    </tr>\n",
       "    <tr>\n",
       "      <th>1</th>\n",
       "      <td>14088</td>\n",
       "      <td>151.8.38.2</td>\n",
       "      <td>0</td>\n",
       "      <td>2</td>\n",
       "      <td>0</td>\n",
       "      <td>Control</td>\n",
       "    </tr>\n",
       "    <tr>\n",
       "      <th>2</th>\n",
       "      <td>15621</td>\n",
       "      <td>28.2.88.6</td>\n",
       "      <td>1</td>\n",
       "      <td>3</td>\n",
       "      <td>0</td>\n",
       "      <td>Control</td>\n",
       "    </tr>\n",
       "    <tr>\n",
       "      <th>3</th>\n",
       "      <td>100190</td>\n",
       "      <td>227.7.180.2</td>\n",
       "      <td>1</td>\n",
       "      <td>3</td>\n",
       "      <td>0</td>\n",
       "      <td>Control</td>\n",
       "    </tr>\n",
       "    <tr>\n",
       "      <th>4</th>\n",
       "      <td>25061</td>\n",
       "      <td>125.13.154.3</td>\n",
       "      <td>1</td>\n",
       "      <td>3</td>\n",
       "      <td>0</td>\n",
       "      <td>Control</td>\n",
       "    </tr>\n",
       "    <tr>\n",
       "      <th>...</th>\n",
       "      <td>...</td>\n",
       "      <td>...</td>\n",
       "      <td>...</td>\n",
       "      <td>...</td>\n",
       "      <td>...</td>\n",
       "      <td>...</td>\n",
       "    </tr>\n",
       "    <tr>\n",
       "      <th>8791</th>\n",
       "      <td>172423</td>\n",
       "      <td>248.6.106.6</td>\n",
       "      <td>1</td>\n",
       "      <td>1</td>\n",
       "      <td>0</td>\n",
       "      <td>Treatment</td>\n",
       "    </tr>\n",
       "    <tr>\n",
       "      <th>8792</th>\n",
       "      <td>80308</td>\n",
       "      <td>207.7.49.4</td>\n",
       "      <td>1</td>\n",
       "      <td>1</td>\n",
       "      <td>0</td>\n",
       "      <td>Treatment</td>\n",
       "    </tr>\n",
       "    <tr>\n",
       "      <th>8793</th>\n",
       "      <td>67917</td>\n",
       "      <td>171.7.78.6</td>\n",
       "      <td>1</td>\n",
       "      <td>1</td>\n",
       "      <td>0</td>\n",
       "      <td>Treatment</td>\n",
       "    </tr>\n",
       "    <tr>\n",
       "      <th>8794</th>\n",
       "      <td>160118</td>\n",
       "      <td>223.16.193.3</td>\n",
       "      <td>0</td>\n",
       "      <td>1</td>\n",
       "      <td>0</td>\n",
       "      <td>Treatment</td>\n",
       "    </tr>\n",
       "    <tr>\n",
       "      <th>8795</th>\n",
       "      <td>87043</td>\n",
       "      <td>132.1.6.7</td>\n",
       "      <td>0</td>\n",
       "      <td>1</td>\n",
       "      <td>1</td>\n",
       "      <td>Treatment</td>\n",
       "    </tr>\n",
       "  </tbody>\n",
       "</table>\n",
       "<p>8796 rows × 6 columns</p>\n",
       "</div>"
      ],
      "text/plain": [
       "      RecordID    IP Address  LoggedInFlag  ServerID  VisitPageFlag      Group\n",
       "0        61036    168.5.11.5             0         3              0    Control\n",
       "1        14088    151.8.38.2             0         2              0    Control\n",
       "2        15621     28.2.88.6             1         3              0    Control\n",
       "3       100190   227.7.180.2             1         3              0    Control\n",
       "4        25061  125.13.154.3             1         3              0    Control\n",
       "...        ...           ...           ...       ...            ...        ...\n",
       "8791    172423   248.6.106.6             1         1              0  Treatment\n",
       "8792     80308    207.7.49.4             1         1              0  Treatment\n",
       "8793     67917    171.7.78.6             1         1              0  Treatment\n",
       "8794    160118  223.16.193.3             0         1              0  Treatment\n",
       "8795     87043     132.1.6.7             0         1              1  Treatment\n",
       "\n",
       "[8796 rows x 6 columns]"
      ]
     },
     "execution_count": 12,
     "metadata": {},
     "output_type": "execute_result"
    }
   ],
   "source": [
    "control_sample = df[df['Group']=='Control'].sample(n=int(2*required_n), random_state=121)\n",
    "treatment_sample = df[df['Group']=='Treatment'].sample(n=int(2*required_n), random_state=121)\n",
    "\n",
    "ab_test = pd.concat([control_sample,treatment_sample],axis=0)\n",
    "ab_test.reset_index(drop=True, inplace=True)\n",
    "\n",
    "ab_test"
   ]
  },
  {
   "cell_type": "code",
   "execution_count": 13,
   "id": "8554b961-1ab3-4e4f-9f6b-8096e18013ef",
   "metadata": {},
   "outputs": [
    {
     "data": {
      "text/plain": [
       "Control      4398\n",
       "Treatment    4398\n",
       "Name: Group, dtype: int64"
      ]
     },
     "execution_count": 13,
     "metadata": {},
     "output_type": "execute_result"
    }
   ],
   "source": [
    "ab_test['Group'].value_counts()"
   ]
  },
  {
   "cell_type": "markdown",
   "id": "7e870646-e0ee-442b-b1f3-c025383f6186",
   "metadata": {},
   "source": [
    "### Calculate the Conversion Rate by Group"
   ]
  },
  {
   "cell_type": "code",
   "execution_count": 14,
   "id": "edb4b408-f5b7-432a-b4df-a5632f54121b",
   "metadata": {},
   "outputs": [
    {
     "data": {
      "text/html": [
       "<style  type=\"text/css\" >\n",
       "</style><table id=\"T_267e0_\" ><thead>    <tr>        <th class=\"blank level0\" ></th>        <th class=\"col_heading level0 col0\" >conversion_rate</th>        <th class=\"col_heading level0 col1\" >std_deviation</th>        <th class=\"col_heading level0 col2\" >std_error</th>    </tr>    <tr>        <th class=\"index_name level0\" >Group</th>        <th class=\"blank\" ></th>        <th class=\"blank\" ></th>        <th class=\"blank\" ></th>    </tr></thead><tbody>\n",
       "                <tr>\n",
       "                        <th id=\"T_267e0_level0_row0\" class=\"row_heading level0 row0\" >Control</th>\n",
       "                        <td id=\"T_267e0_row0_col0\" class=\"data row0 col0\" >0.056</td>\n",
       "                        <td id=\"T_267e0_row0_col1\" class=\"data row0 col1\" >0.229</td>\n",
       "                        <td id=\"T_267e0_row0_col2\" class=\"data row0 col2\" >0.003</td>\n",
       "            </tr>\n",
       "            <tr>\n",
       "                        <th id=\"T_267e0_level0_row1\" class=\"row_heading level0 row1\" >Treatment</th>\n",
       "                        <td id=\"T_267e0_row1_col0\" class=\"data row1 col0\" >0.073</td>\n",
       "                        <td id=\"T_267e0_row1_col1\" class=\"data row1 col1\" >0.260</td>\n",
       "                        <td id=\"T_267e0_row1_col2\" class=\"data row1 col2\" >0.004</td>\n",
       "            </tr>\n",
       "    </tbody></table>"
      ],
      "text/plain": [
       "<pandas.io.formats.style.Styler at 0x7fb4a8df0cd0>"
      ]
     },
     "execution_count": 14,
     "metadata": {},
     "output_type": "execute_result"
    }
   ],
   "source": [
    "conversion_rate = ab_test.groupby('Group')['VisitPageFlag']\n",
    "std_p = lambda x: np.std(x, ddof=0)              # Std. deviation of the proportion\n",
    "se_p = lambda x: stats.sem(x, ddof=0)            # Std. error of the proportion (std / sqrt(n))\n",
    "\n",
    "conversion_rate = conversion_rate.agg([np.mean, std_p, se_p])\n",
    "conversion_rate.columns = ['conversion_rate', 'std_deviation', 'std_error']\n",
    "\n",
    "conversion_rate.style.format('{:.3f}')"
   ]
  },
  {
   "cell_type": "markdown",
   "id": "a37a4e4c-e51f-4722-b419-cf1e19c06bfa",
   "metadata": {},
   "source": [
    "### Visualization"
   ]
  },
  {
   "cell_type": "code",
   "execution_count": 15,
   "id": "ca042d41-3207-49d4-96fc-87ef1ca6195c",
   "metadata": {},
   "outputs": [
    {
     "data": {
      "text/plain": [
       "Text(0, 0.5, 'Conversion Rate')"
      ]
     },
     "execution_count": 15,
     "metadata": {},
     "output_type": "execute_result"
    },
    {
     "data": {
      "image/png": "[encoded data removed]",
      "text/plain": [
       "<Figure size 432x288 with 1 Axes>"
      ]
     },
     "metadata": {
      "needs_background": "light"
     },
     "output_type": "display_data"
    }
   ],
   "source": [
    "import matplotlib.pyplot as plt\n",
    "import seaborn as sns\n",
    "\n",
    "sns.barplot(x=ab_test['Group'], y=ab_test['VisitPageFlag'], ci=False)\n",
    "plt.title('Conversion Rate by Group')\n",
    "plt.ylabel('Conversion Rate')"
   ]
  },
  {
   "cell_type": "markdown",
   "id": "39cb07d1-e474-45fe-9b6c-cff423537dad",
   "metadata": {},
   "source": [
    "### Testing the hypothesis"
   ]
  },
  {
   "cell_type": "code",
   "execution_count": 16,
   "id": "bf1f269e-7c69-4c81-89ea-513e42f06512",
   "metadata": {},
   "outputs": [
    {
     "name": "stdout",
     "output_type": "stream",
     "text": [
      "z statistic: -3.34\n",
      "p-value: 0.00\n",
      "ci 95% for control group:  ['0.05%', '0.06%']\n",
      "ci 95% for treatment group:  ['0.07%', '0.08%']\n"
     ]
    }
   ],
   "source": [
    "from statsmodels.stats.proportion import proportions_ztest, proportion_confint\n",
    "\n",
    "control_results = ab_test[ab_test['Group'] == 'Control']['VisitPageFlag']\n",
    "treatment_results = ab_test[ab_test['Group'] == 'Treatment']['VisitPageFlag']\n",
    "n_con = control_results.count()\n",
    "n_treat = treatment_results.count()\n",
    "success = [control_results.sum(), treatment_results.sum()]\n",
    "nobs = [n_con, n_treat]\n",
    "\n",
    "z_stat, pval = proportions_ztest(success, nobs=nobs)\n",
    "(lower_con, lower_treat), (upper_con, upper_treat) = proportion_confint(success, nobs=nobs, alpha=0.05)\n",
    "\n",
    "print('z statistic: {:.2f}'.format(z_stat))\n",
    "print('p-value: {:.2f}'.format(pval))\n",
    "print(f'ci 95% for control group: ', list(map('{:.2f}%'.format, [lower_con, upper_con])))\n",
    "print(f'ci 95% for treatment group: ', list(map('{:.2f}%'.format, [lower_treat, upper_treat])))"
   ]
  },
  {
   "cell_type": "markdown",
   "id": "4d724f3b-f62c-4729-b83c-5e45a0a87d52",
   "metadata": {},
   "source": [
    "### Step 4: 得出結論\n",
    "舊版本組和新版本組的95%信心區間發現舊版本組的轉換率在5%-7%，對照組則是在6%-8%\n",
    "- 新版本的數據並沒有包含基礎轉換率5%\n",
    "- 新版的的轉換率區間有到達設定轉換率7%\n",
    "- P-value = 0.00 < α = 0.05 :代表這項結果在統計學上具有顯著性\n",
    "\n",
    "這代表新版本的轉換率在統計學上可能如我們期望的有提升2%達到7%。"
   ]
  },
  {
   "cell_type": "markdown",
   "id": "4f544678-51c0-4742-ae7d-5de9029e192e",
   "metadata": {},
   "source": [
    "### 筆記總結\n",
    "- 使用Power Analysis初步得到的樣本數量算出來的p-value = 0.16在統計學上並不具備顯著性意義所以緩慢提高直到1.25倍的樣本數量才得到p-value = 0.02，信心區間從[5%-6%]提升到[6%-8%]雖然有所提升但兩者間重疊性大。當樣本數達到2倍時信心區間則有明顯區別且p-value=0.00。A/B test本就需要不斷監控直到統計具有顯著意義為止。"
   ]
  }
 ],
 "metadata": {
  "kernelspec": {
   "display_name": "Python 3",
   "language": "python",
   "name": "python3"
  },
  "language_info": {
   "codemirror_mode": {
    "name": "ipython",
    "version": 3
   },
   "file_extension": ".py",
   "mimetype": "text/x-python",
   "name": "python",
   "nbconvert_exporter": "python",
   "pygments_lexer": "ipython3",
   "version": "3.8.8"
  }
 },
 "nbformat": 4,
 "nbformat_minor": 5
}
